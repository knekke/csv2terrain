{
 "cells": [
  {
   "cell_type": "markdown",
   "metadata": {},
   "source": [
    "# Quantum Terrain Generation\n",
    "\n",
    "This notebook contains a stripped down version of the one embedded in [this blog post](https://medium.com/qiskit/creating-infinite-worlds-with-quantum-computing-5e998e6d21c2). See that article for information on what everything does, and why.\n",
    "\n",
    "For this notebook we will need various helper functions. These can all be found in the giant cell below.\n",
    "\n",
    "Just run it and move on."
   ]
  },
  {
   "cell_type": "code",
   "execution_count": 1,
   "metadata": {},
   "outputs": [],
   "source": [
    "from PIL import Image\n",
    "from IPython.display import display\n",
    "import random\n",
    "import numpy as np\n",
    "import ipywidgets as widgets\n",
    "from ipywidgets import Checkbox, ToggleButton, Layout, HBox, VBox\n",
    "from qiskit import *\n",
    "import time\n",
    "\n",
    "try:\n",
    "    IBMQ.load_accounts()\n",
    "except:\n",
    "    pass\n",
    "\n",
    "\n",
    "def height2image (Z, terrain=None ):\n",
    "    # converts a heightmap z into a PIL image\n",
    "    # for terrain=None, this is a black and white image with white for Z[x,y]=1 and black for Z[x,y]=0\n",
    "    # otherwise, the values in terrain are used as thresholds between sea and beach, beach and grass, etc\n",
    "    image = {}\n",
    "    for pos in Z:\n",
    "        if terrain:\n",
    "            if Z[pos]<terrain[0]:\n",
    "                image[pos] = (50,120,200)\n",
    "            elif Z[pos]<terrain[1]:\n",
    "                image[pos] = (220,220,10)\n",
    "            elif Z[pos]<terrain[2]:\n",
    "                image[pos] = (100,200,0)\n",
    "            elif Z[pos]<terrain[3]:\n",
    "                image[pos] = (75,150,0)\n",
    "            elif Z[pos]<terrain[4]:\n",
    "                 image[pos] = (200,200,200)  \n",
    "            else:\n",
    "                image[pos] = (255,255,255)\n",
    "        else:\n",
    "            z = int(255*Z[pos])\n",
    "            image[pos] = (z,z,z)\n",
    "            \n",
    "    X = max(Z.keys())[0]+1\n",
    "    Y = max(Z.keys())[1]+1\n",
    "    img = Image.new('RGB',(X,Y))  \n",
    "    for x in range(img.size[0]):\n",
    "        for y in range(img.size[1]):\n",
    "            img.load()[x,y] = image[x,y]\n",
    "    return img\n",
    "\n",
    "def plot_height (Z,terrain=[5/16,6/16,9/16,12/16,14/16],zoom=None):\n",
    "    # display a heightmap as the above image\n",
    "    # displayed image is a terrain map by default\n",
    "    img = height2image(Z,terrain=terrain)\n",
    "    if zoom:\n",
    "        img = img.resize((zoom*img.size[0],zoom*img.size[0]), Image.ANTIALIAS)\n",
    "    img.save('temp.png')\n",
    "    display(Image.open('temp.png'))\n",
    "    \n",
    "def get_L(n):\n",
    "    # determine the size of the grid corresponding to n qubits\n",
    "    Lx = int(2**np.ceil(n/2))\n",
    "    Ly = int(2**np.floor(n/2))\n",
    "    return [Lx,Ly]\n",
    "\n",
    "def make_grid(n):\n",
    "    # make a dictionary for which every point in the grid is assigned a unique n bit string\n",
    "    # these are such that '0'*n is in the center, and each string neighbours only its neighbours on the hypercube\n",
    "    \n",
    "    [Lx,Ly] = get_L(n)\n",
    "\n",
    "    strings = {}\n",
    "    for y in range(Ly):\n",
    "        for x in range(Lx):\n",
    "            strings[(x,y)] = ''\n",
    "\n",
    "    for (x,y) in strings:\n",
    "        for j in range(n):\n",
    "            if (j%2)==0:\n",
    "                xx = np.floor(x/2**(j/2))\n",
    "                strings[(x,y)] = str( int( ( xx + np.floor(xx/2) )%2 ) ) + strings[(x,y)]\n",
    "            else:\n",
    "                yy = np.floor(y/2**((j-1)/2))\n",
    "                strings[(x,y)] = str( int( ( yy + np.floor(yy/2) )%2 ) ) + strings[(x,y)]\n",
    "\n",
    "    center = '0'*n\n",
    "    current_center = strings[ ( int(np.floor(Lx/2)),int(np.floor(Ly/2)) ) ]\n",
    "    diff = ''\n",
    "    for j in range(n):\n",
    "        diff += '0'*(current_center[j]==center[j]) + '1'*(current_center[j]!=center[j])\n",
    "    for (x,y) in strings:\n",
    "            newstring = ''\n",
    "            for j in range(n):\n",
    "                newstring += strings[(x,y)][j]*(diff[j]=='0') + ('0'*(strings[(x,y)][j]=='1')+'1'*(strings[(x,y)][j]=='0'))*(diff[j]=='1')\n",
    "            strings[(x,y)] = newstring\n",
    "            \n",
    "    grid = {}\n",
    "    for y in range(Ly):\n",
    "        for x in range(Lx):\n",
    "            grid[strings[(x,y)]] = (x,y)\n",
    "    \n",
    "    return strings\n",
    "\n",
    "def normalize_height(Z):\n",
    "    # scales heights so that the maximum is 1 and the minimum is 0\n",
    "    maxZ = max(Z.values())\n",
    "    minZ = min(Z.values())\n",
    "    for pos in Z:\n",
    "        Z[pos] = (Z[pos]-minZ)/(maxZ-minZ)\n",
    "    return Z\n",
    "\n",
    "def counts2height(counts,grid,log=False):\n",
    "    # set the height of a point to be the counts value of the corresponding bit string (or the logarithm) and normalize\n",
    "    Z = {}\n",
    "    for pos in grid:\n",
    "        try:\n",
    "            Z[pos] = counts[grid[pos]]\n",
    "        except:\n",
    "            Z[pos] = 0\n",
    "    if log:\n",
    "        for pos in Z:\n",
    "            Z[pos] = max(Z[pos],1/len(grid)**2)\n",
    "            Z[pos] = np.log( Z[pos] )/np.log(2)\n",
    "    Z = normalize_height(Z)    \n",
    "    return Z\n",
    "\n",
    "def height2state(Z,grid):\n",
    "    # converts a heightmap intp a quantum state\n",
    "    N = len(grid)\n",
    "    state = [0]*N\n",
    "\n",
    "    for pos in Z:\n",
    "        state[ int(grid[pos],2) ] = np.sqrt( Z[pos] ) # amplitude is square root of height value\n",
    "    R = sum(np.absolute(state)**2)\n",
    "    state = [amp / np.sqrt(R) for amp in state] # amplitudes are normalized\n",
    "    return state\n",
    "\n",
    "def state2counts (state,shots=None):\n",
    "    N = len(state)\n",
    "    n = int(np.log2(N))\n",
    "    if shots is None:\n",
    "        shots = N**2\n",
    "    counts = {}\n",
    "    for j in range(N):\n",
    "        string = bin(j)[2:]\n",
    "        string = '0'*(n-len(string)) + string\n",
    "        counts[string] = np.absolute(state[j])**2 * shots # square amplitudes to get probabilities\n",
    "    return counts\n",
    "\n",
    "def get_boxes(L,value=True):\n",
    "\n",
    "    width = str(500/L[0])+'px'\n",
    "    height = str(500/L[1])+'px'\n",
    "\n",
    "    box = {}\n",
    "    for y in range(L[1]):\n",
    "        for x in range(L[0]):\n",
    "            if value=='sea':\n",
    "                this_value = ( (x in [0,L[0]-1]) or (y in [0,L[1]-1]) )\n",
    "            elif value=='mountain':\n",
    "                this_value = not ( (x in [int(L[0])/2,int(L[0])/2-1]) and (y in [int(L[1])/2,int(L[1])/2-1]) )\n",
    "            else:\n",
    "                this_value = value\n",
    "            box[x,y] = widgets.ToggleButton(value=this_value,button_style='',layout=Layout(width=width, height=height))\n",
    "            \n",
    "    return box\n",
    "\n",
    "def flat_height(L):\n",
    "    # create height map that is 0 everywhere\n",
    "    Z ={}\n",
    "    for x in range(L[0]):\n",
    "        for y in range(L[1]):\n",
    "            Z[x,y] = 0\n",
    "    return Z\n",
    "\n",
    "def shuffle_grid(grid):\n",
    "    \n",
    "    n = int( np.log(len(grid))/np.log(2) )\n",
    "    \n",
    "    order = [j for j in range(n)]\n",
    "    random.shuffle(order)\n",
    "    \n",
    "    new_grid = {}\n",
    "    for pos in grid:\n",
    "        new_string = ''\n",
    "        for j in order:\n",
    "            new_string = grid[pos][j] + new_string\n",
    "        new_grid[pos] = new_string\n",
    "    \n",
    "    return new_grid\n",
    "\n",
    "def shuffle_height (Z,grid):\n",
    "    \n",
    "    new_grid = shuffle_grid(grid)\n",
    "    new_Z = {}\n",
    "    for pos in Z:\n",
    "        string = grid[pos] \n",
    "        new_pos = list(new_grid.keys())[ list(new_grid.values()).index( string ) ]\n",
    "        new_Z[new_pos] = Z[pos]\n",
    "        \n",
    "    return new_Z,new_grid\n",
    "        \n",
    "def rotate_height (Z,theta):\n",
    "    # rotate height Z by angle theta\n",
    "    L = list(max(Z))\n",
    "    mid = [(L[j]+1)/2 for j in range(2)]\n",
    "    \n",
    "    Lr = [ int( 1.6*(L[j]+1) ) for j in range(2) ]\n",
    "    midr = [Lr[j]/2 for j in range(2)]\n",
    "    \n",
    "    Zr = flat_height(Lr)\n",
    "    \n",
    "    for pos in Zr:\n",
    "        \n",
    "        d = [ pos[j]-midr[j] for j in range(2) ]\n",
    "        \n",
    "        x = int( d[0]*np.cos(theta*np.pi) + d[1]*np.sin(theta*np.pi) + mid[0] )\n",
    "        y = int( -d[0]*np.sin(theta*np.pi) + d[1]*np.cos(theta*np.pi) + mid[1] )\n",
    "        \n",
    "        if (x,y) in Z:\n",
    "            Zr[pos] = Z[x,y]\n",
    "        else:\n",
    "            Zr[pos] = 0\n",
    "        \n",
    "    return Zr\n",
    "\n",
    "def blur(Zs,reduced_size,steps=2):\n",
    "    for j in range(steps):\n",
    "        for offset in [0,1]:\n",
    "            for y in range(1,reduced_size[1]-1):\n",
    "                for x in range(1+(offset+y)%2,reduced_size[0]-1+(offset+y)%2,2):\n",
    "                    Zs[x,y] = ( Zs[x,y] + (Zs[x+1,y] + Zs[x-1,y] + Zs[x,y+1] + Zs[x,y-1])/4 )/2\n",
    "    return Zs\n",
    "\n",
    "def islands(size,Zs,tartans):\n",
    "    # height map of created by combining the quantum tartans of `tartans` with the basic map features.\n",
    "    Z = flat_height(size)\n",
    "        \n",
    "    tsize = max(tartans[0])\n",
    "    \n",
    "    for tartan in tartans:  \n",
    "        unchosen = True\n",
    "        while unchosen:\n",
    "            x0 = random.choice(range(size[0]))\n",
    "            y0 = random.choice(range(size[1]))\n",
    "            if random.random()<Zs[int(x0*(max(Zs.keys())[0]+1)/size[0]),int(y0*(max(Zs.keys())[1]+1)/size[1])]:\n",
    "                unchosen = False\n",
    "\n",
    "        for (x,y) in tartan:\n",
    "            xx = x-int(tsize[0]/2)+x0\n",
    "            yy = y-int(tsize[1]/2)+y0\n",
    "            if (xx,yy) in Z:\n",
    "                    Z[xx,yy] += tartan[x,y]\n",
    "                \n",
    "    Z = normalize_height(Z)\n",
    "\n",
    "    return Z\n",
    "\n",
    "def make_blocks(Z,terrain=[2/16,3/16,5/16,10/16,12/16],height=24,depth=12):\n",
    "    # make a dictionary that determines which material exists at each 3D position\n",
    "    # also returns mins and maxs of all three coordinates in `mins` and `maxs`\n",
    "    def addBlocks( blocks, x1,h1,y1, x2,h2,y2, block ):\n",
    "        # add a blocks of a given type for a given range of coordinates\n",
    "        for x in range(x1,x2+1):\n",
    "            for y in range(y1,y2+1):\n",
    "                for h in range(h1,h2+1):\n",
    "                    blocks[x,h,y] = block\n",
    "    \n",
    "    def addTreeBlocks( blocks, x,h,y, rnd ):\n",
    "        #Makes a tree, rooted at the specified position'''\n",
    "        for j in range(1,6):\n",
    "            blocks[x,h+j,y] = 'tree'\n",
    "        for xx in range(x-3,x+4):\n",
    "            for yy in range(y-3,y+4):\n",
    "                for hh in range(h+5,h+11):\n",
    "                    d = (xx-x)**2+(yy-y)**2+(hh-h-6)**2 + 0.1\n",
    "                    if d<8:\n",
    "                        blocks[xx,hh,yy] = 'leaves'\n",
    "        xx = choose([x-1,x+1],rnd)\n",
    "        yy = choose([y-1,y+1],rnd)\n",
    "        blocks[xx,h+5,yy] = 'tree'\n",
    "        blocks[xx,h+4,yy] = 'torch'\n",
    "                              \n",
    "    def choose( options, rnd ):\n",
    "        return options [ int(round(rnd*( len(options)-1 ))) ]\n",
    "    \n",
    "    \n",
    "    sea_level = int( depth+terrain[0]*height+1 )\n",
    "    \n",
    "    choosing = True\n",
    "    while choosing:\n",
    "        spawn = random.choice( list(Z.keys()) )\n",
    "        if Z[spawn]>terrain[0]:\n",
    "            choosing = False\n",
    "    spawn = [spawn[0],depth+height,spawn[1]]\n",
    "    \n",
    "    blocks = {}\n",
    "    (Xmin,Hmin,Ymin) = (0,0,0)\n",
    "    (Xmax,Hmax,Ymax) = (0,0,0)\n",
    "    for (X,Y) in Z:\n",
    "        \n",
    "        Hfloat = depth + Z[X,Y]*height\n",
    "        H = int( Hfloat ) # height for a block\n",
    "        rnd = Hfloat-H # value from 0 to 1 that we can use for randomness\n",
    "        \n",
    "        Xmin = min(Xmin,X); Ymin = min(Ymin,Y); Hmin = min(Hmin,H)\n",
    "        Xmax = max(Xmax,X); Ymax = max(Ymax,Y); Hmax = max(Hmax,H)\n",
    "        \n",
    "        # First we make a cavern, which is most spacious under hills\n",
    "        \n",
    "        Hm = int( (1-Z[X,Y])*depth/2 ) # height for stalagtites\n",
    "        Ht = int( depth - (1-Z[X,Y])*depth/2 ) #height at which stalagmites begin\n",
    "        \n",
    "        if Z[X,Y]<terrain[0]:\n",
    "            minerals = ['diamondblock','goldblock'] # most precious minerals in hard to reach places\n",
    "        else:\n",
    "            minerals = ['stone','stone','stone_with_coal','stone_with_iron','stone_with_copper','stone_with_tin','stone_with_gold','stone_with_diamond']\n",
    "        stone_m = choose(minerals,rnd)\n",
    "        stone_t = choose(minerals,1-rnd)\n",
    "   \n",
    "        if (1-Z[X,Y])<terrain[0]: # the very bottom of the cavern has lava\n",
    "            blocks[X,0,Y] = stone_m\n",
    "            blocks[X,1,Y] = 'lava_source'\n",
    "        else: # otherwise a mineral\n",
    "            addBlocks( blocks, X,0,Y, X,Hm,Y, stone_m )\n",
    "            \n",
    "        if Z[X,Y]<terrain[4]: # the roof is always a mineral\n",
    "            addBlocks( blocks, X,Ht,Y, X,depth,Y, stone_t )\n",
    "        \n",
    "        if rnd<0.005 and Z[X,Y]>terrain[0] and Z[X,Y]<terrain[4]:\n",
    "            blocks[X,Ht-1,Y] = 'torch'\n",
    "                        \n",
    "        if Z[X,Y]<terrain[0]: # sand at H and then water up to sea level\n",
    "            addBlocks( blocks, X,depth,Y, X,H,Y, 'sand' )\n",
    "            addBlocks( blocks, X,H+1,Y, X,sea_level,Y, 'water_source' )\n",
    "        elif Z[X,Y]<terrain[1]: # sand\n",
    "            addBlocks( blocks, X,depth+1,Y, X,H-1,Y, 'stone' )\n",
    "            blocks[X,H,Y] = 'sand'\n",
    "            blocks[X,H+1,Y] = 'sand'\n",
    "        elif Z[X,Y]<terrain[2]: # grass with trees\n",
    "            addBlocks( blocks, X,depth+1,Y, X,H-1,Y, 'stone' )\n",
    "            blocks[X,H,Y] = 'dirt_with_grass'\n",
    "            blocks[X,H+1,Y] = 'dirt_with_grass'\n",
    "            if rnd<0.025:\n",
    "                addTreeBlocks( blocks, X,H,Y, rnd )\n",
    "            else:\n",
    "                blocks[X,H+2,Y] = choose(['fern_1','marram_grass_1','marram_grass_2','marram_grass_3'],rnd)\n",
    "        elif Z[X,Y]<terrain[3]: # grass with ferns\n",
    "            addBlocks( blocks, X,depth+1,Y, X,H-1,Y, 'stone' )\n",
    "            blocks[X,H,Y] = 'dirt_with_grass'\n",
    "            blocks[X,H+1,Y] = 'dirt_with_grass'\n",
    "            blocks[X,H+2,Y] = choose(['fern_1','fern_2','fern_3','marram_grass_1'],rnd)\n",
    "        elif Z[X,Y]<terrain[4]: # mixture of grass and stone\n",
    "            addBlocks( blocks, X,depth+1,Y, X,H-1,Y, 'stone' )\n",
    "            if rnd<1/3:\n",
    "                blocks[X,H,Y] = 'dirt_with_grass'\n",
    "                blocks[X,H+1,Y] = 'dirt_with_grass'\n",
    "            else:\n",
    "                blocks[X,H,Y] = 'stone'\n",
    "                blocks[X,H+1,Y] = 'stone'\n",
    "        elif H==(depth + terrain[4]*height): # just stone, with a random bit of additional height\n",
    "            H += int(height*rnd/10)\n",
    "            addBlocks( blocks, X,depth+1,Y, X,H+1,Y, 'stone' )\n",
    "        elif Z[X,Y]==1:\n",
    "            blocks[X,H,Y] = 'torch'\n",
    "                \n",
    "        mins = (Xmin,Hmin,Ymin)\n",
    "        maxs = (Xmax,Hmax,Ymax)\n",
    "        \n",
    "    return blocks, spawn, mins, maxs\n",
    "    \n",
    "def save_blocks(blocks,spawn,mins,maxs,filename='blocks.csv'):\n",
    "    # saves a dictionary of the form created by the above function as a csv file\n",
    "    with open(filename, 'w') as file:\n",
    "        file.write( str(mins[0])+','+str(mins[1])+','+str(mins[2])+',min,\\n' )\n",
    "        file.write( str(maxs[0])+','+str(maxs[1])+','+str(maxs[2])+',max,\\n' )\n",
    "        file.write( str(spawn[0])+','+str(spawn[1])+','+str(spawn[2])+',player,\\n' )\n",
    "        for (x,h,y) in blocks:\n",
    "            file.write( str(x)+','+str(h)+','+str(y)+','+blocks[x,h,y]+',\\n' )\n",
    "\n",
    "def quantum_tartan (seed,theta,grid=None,shots=1,log=True):\n",
    "        \n",
    "    n = int(np.log2( len(seed) ))\n",
    "        \n",
    "    if grid is None:\n",
    "        grid = make_grid(n)\n",
    "\n",
    "    state = height2state(seed,grid)\n",
    "\n",
    "    q = QuantumRegister(n)\n",
    "    qc = QuantumCircuit(q)\n",
    "    qc.initialize(state,q)\n",
    "    qc.ry(2*np.pi*theta,q)\n",
    "    \n",
    "    if shots>1:\n",
    "        try:\n",
    "            backend = IBMQ.get_backend('ibmq_16_melbourne')\n",
    "        except:\n",
    "            backend = Aer.get_backend('qasm_simulator')\n",
    "    else:\n",
    "        backend = Aer.get_backend('statevector_simulator')\n",
    "\n",
    "    if shots>1:\n",
    "        c = ClassicalRegister(n)\n",
    "        qc.add_register(c)\n",
    "        qc.measure(q,c)\n",
    "    \n",
    "    start = time.time()\n",
    "    print('Quantum job initiated on',backend.name())\n",
    "    job = execute(qc, backend, shots=shots)\n",
    "    end = time.time()\n",
    "    print('Quantum job complete after',int(end-start),'seconds')\n",
    "    \n",
    "\n",
    "    if shots>1:\n",
    "        counts = job.result().get_counts()\n",
    "    else:\n",
    "        counts = state2counts( job.result().get_statevector() )\n",
    "        \n",
    "    Z = counts2height(counts,grid,log=log)   \n",
    "    \n",
    "    return Z, grid"
   ]
  },
  {
   "cell_type": "markdown",
   "metadata": {},
   "source": [
    "In this notebook we will generate some terrain.\n",
    "\n",
    "There are many ways to do this, but all can generally be thought of as having two stages.\n",
    "1. Work out the broad features, such as where the mountains and the sea will go.\n",
    "2. Add interesting texture and features on top of this.\n",
    "\n",
    "The standard method is to do this by many layers of gradient noise. Here we'll do something different: a collaboration between a human and quantum computation."
   ]
  },
  {
   "cell_type": "markdown",
   "metadata": {},
   "source": [
    "First you need decide where you want the mountains in your terrain to be. Put some white points in the map below where you want high ground to be. The more points you put in an area, the higher the ground."
   ]
  },
  {
   "cell_type": "code",
   "execution_count": 2,
   "metadata": {},
   "outputs": [
    {
     "data": {
      "application/vnd.jupyter.widget-view+json": {
       "model_id": "b52079da50904824b8d2067b3c3f6527",
       "version_major": 2,
       "version_minor": 0
      },
      "text/plain": [
       "VBox(children=(HBox(children=(ToggleButton(value=True, layout=Layout(height='50.0px', width='50.0px')), Toggle…"
      ]
     },
     "metadata": {},
     "output_type": "display_data"
    }
   ],
   "source": [
    "reduced_size = [10,10]\n",
    "peak_box = get_boxes(reduced_size,value='mountain')\n",
    "VBox([ HBox([ peak_box[x,y] for x in range(reduced_size[0]) ]) for y in range(reduced_size[1]) ])"
   ]
  },
  {
   "cell_type": "markdown",
   "metadata": {},
   "source": [
    "Now choose where you want low ground to be (under or close to sea-level)."
   ]
  },
  {
   "cell_type": "code",
   "execution_count": 3,
   "metadata": {},
   "outputs": [
    {
     "data": {
      "application/vnd.jupyter.widget-view+json": {
       "model_id": "6e26b75e4d384ba68c8a80552e1a3e8c",
       "version_major": 2,
       "version_minor": 0
      },
      "text/plain": [
       "VBox(children=(HBox(children=(ToggleButton(value=True, layout=Layout(height='50.0px', width='50.0px')), Toggle…"
      ]
     },
     "metadata": {},
     "output_type": "display_data"
    }
   ],
   "source": [
    "valley_box = get_boxes(reduced_size,value='sea')\n",
    "VBox([ HBox([ valley_box[x,y] for x in range(reduced_size[0]) ]) for y in range(reduced_size[1]) ])"
   ]
  },
  {
   "cell_type": "markdown",
   "metadata": {},
   "source": [
    "Your inputs give us the following, very basic map."
   ]
  },
  {
   "cell_type": "code",
   "execution_count": 4,
   "metadata": {},
   "outputs": [
    {
     "data": {
      "image/png": "[encoded data removed]",
      "text/plain": [
       "<PIL.PngImagePlugin.PngImageFile image mode=RGB size=100x100 at 0x11BF372B0>"
      ]
     },
     "metadata": {},
     "output_type": "display_data"
    }
   ],
   "source": [
    "Zs = {}\n",
    "for y in range(reduced_size[1]):\n",
    "    for x in range(reduced_size[0]):\n",
    "        if peak_box[x,y].value==False:\n",
    "            Zs[x,y] = 1\n",
    "        elif valley_box[x,y].value==True:\n",
    "            Zs[x,y] = 0\n",
    "        else:\n",
    "            Zs[x,y] = 0.5\n",
    "            \n",
    "plot_height( Zs , terrain=None, zoom=10 )"
   ]
  },
  {
   "cell_type": "markdown",
   "metadata": {},
   "source": [
    "You can apply a blur on this to smooth it out, if you want."
   ]
  },
  {
   "cell_type": "code",
   "execution_count": 5,
   "metadata": {},
   "outputs": [
    {
     "data": {
      "image/png": "[encoded data removed]",
      "text/plain": [
       "<PIL.PngImagePlugin.PngImageFile image mode=RGB size=100x100 at 0x10ED1D080>"
      ]
     },
     "metadata": {},
     "output_type": "display_data"
    }
   ],
   "source": [
    "Zs = blur(Zs,reduced_size,steps=1)\n",
    "plot_height( Zs , terrain=None, zoom=10 )"
   ]
  },
  {
   "cell_type": "markdown",
   "metadata": {},
   "source": [
    "Next, we need to create the textures that we will overlay onto the map. For this you need provide a seed for the quantum computer to work with. This will be a simple image that can be manipulated using quantum effects. Draw one below, by clicking on pixels to switch them between black and white."
   ]
  },
  {
   "cell_type": "code",
   "execution_count": 6,
   "metadata": {},
   "outputs": [
    {
     "data": {
      "application/vnd.jupyter.widget-view+json": {
       "model_id": "9024a4b0d0f94691902fba766abc518e",
       "version_major": 2,
       "version_minor": 0
      },
      "text/plain": [
       "VBox(children=(HBox(children=(ToggleButton(value=True, layout=Layout(height='62.5px', width='62.5px')), Toggle…"
      ]
     },
     "metadata": {},
     "output_type": "display_data"
    }
   ],
   "source": [
    "n = 6\n",
    "shots = 4**n\n",
    "L = get_L(n)\n",
    "\n",
    "box = get_boxes(L)\n",
    "\n",
    "VBox([ HBox([ box[x,y] for x in range(L[0]) ]) for y in range(L[1]) ])"
   ]
  },
  {
   "cell_type": "markdown",
   "metadata": {},
   "source": [
    "Here's the image you created."
   ]
  },
  {
   "cell_type": "code",
   "execution_count": 7,
   "metadata": {},
   "outputs": [
    {
     "data": {
      "image/png": "[encoded data removed]",
      "text/plain": [
       "<PIL.PngImagePlugin.PngImageFile image mode=RGB size=120x120 at 0x11C0980B8>"
      ]
     },
     "metadata": {},
     "output_type": "display_data"
    }
   ],
   "source": [
    "Z = flat_height(L)\n",
    "for y in range(L[1]):\n",
    "    for x in range(L[0]):\n",
    "        if box[x,y].value==False:\n",
    "            Z[x,y] = 1\n",
    "            \n",
    "plot_height( Z, terrain=None, zoom=15 )"
   ]
  },
  {
   "cell_type": "markdown",
   "metadata": {},
   "source": [
    "Now we'll run it through a quantum interference process."
   ]
  },
  {
   "cell_type": "code",
   "execution_count": 9,
   "metadata": {},
   "outputs": [
    {
     "name": "stdout",
     "output_type": "stream",
     "text": [
      "Quantum job initiated on qasm_simulator\n",
      "Quantum job complete after 0 seconds\n"
     ]
    },
    {
     "data": {
      "image/png": "[encoded data removed]",
      "text/plain": [
       "<PIL.PngImagePlugin.PngImageFile image mode=RGB size=120x120 at 0x11C0807F0>"
      ]
     },
     "metadata": {},
     "output_type": "display_data"
    }
   ],
   "source": [
    "Z, grid = quantum_tartan(Z,0.05,shots=shots)\n",
    "plot_height( Z, terrain=None, zoom=15 )"
   ]
  },
  {
   "cell_type": "markdown",
   "metadata": {},
   "source": [
    "This new image will be used as the basis for textures within the landscape. This means that it is is good for it to be nicely bumpy, rather than have lots of extremes of highs and lows. So run the above process until the result is doesn't have lots of pure black or white."
   ]
  },
  {
   "cell_type": "markdown",
   "metadata": {},
   "source": [
    "Once this is done, we create many variants of this basic texture using the process below."
   ]
  },
  {
   "cell_type": "code",
   "execution_count": 10,
   "metadata": {},
   "outputs": [
    {
     "name": "stdout",
     "output_type": "stream",
     "text": [
      "Generation of 2000 samples took 2 seconds\n"
     ]
    }
   ],
   "source": [
    "start = time.time()\n",
    "\n",
    "samples = 2000\n",
    "tartans = []\n",
    "for j in range(samples):\n",
    "    randZ,_ =  shuffle_height(Z,grid)\n",
    "    randZ = rotate_height(randZ,random.random())\n",
    "    tartans.append( randZ )\n",
    "    \n",
    "end = time.time()\n",
    "print('Generation of',samples,'samples took',int(end-start),'seconds')"
   ]
  },
  {
   "cell_type": "markdown",
   "metadata": {},
   "source": [
    "Now we can get our map. The broad features you supplied will be combined with the many quantum texture patches. The end result will be some nice terrain."
   ]
  },
  {
   "cell_type": "code",
   "execution_count": 11,
   "metadata": {},
   "outputs": [
    {
     "data": {
      "image/png": "[encoded data removed]",
      "text/plain": [
       "<PIL.PngImagePlugin.PngImageFile image mode=RGB size=200x200 at 0x10ED1DA90>"
      ]
     },
     "metadata": {},
     "output_type": "display_data"
    }
   ],
   "source": [
    "size = [200,200]\n",
    "Z_islands = islands(size,Zs,tartans)\n",
    "plot_height( Z_islands, terrain=[2/16,3/16,5/16,8/16,10/16] )"
   ]
  },
  {
   "cell_type": "markdown",
   "metadata": {},
   "source": [
    "The final step is to save the map. This creates a csv file which can be used with the csv2terrain mod of Minetest."
   ]
  },
  {
   "cell_type": "code",
   "execution_count": 12,
   "metadata": {},
   "outputs": [],
   "source": [
    "blocks, spawn, mins, maxs = make_blocks( Z_islands )\n",
    "save_blocks( blocks, spawn, mins, maxs )"
   ]
  },
  {
   "cell_type": "code",
   "execution_count": null,
   "metadata": {},
   "outputs": [],
   "source": []
  }
 ],
 "metadata": {
  "kernelspec": {
   "display_name": "Python 3",
   "language": "python",
   "name": "python3"
  },
  "language_info": {
   "codemirror_mode": {
    "name": "ipython",
    "version": 3
   },
   "file_extension": ".py",
   "mimetype": "text/x-python",
   "name": "python",
   "nbconvert_exporter": "python",
   "pygments_lexer": "ipython3",
   "version": "3.7.0"
  }
 },
 "nbformat": 4,
 "nbformat_minor": 2
}
